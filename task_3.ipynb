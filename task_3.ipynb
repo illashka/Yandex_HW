def number_conversion(number):
    number = number.replace('-', '')
    number = number.replace('(', '')
    number = number.replace(')', '')
    number = number.replace('+7', '8')
    number = int(number)
    number = [int(x) for x in str(number)]
    
    if len(number) < 11:
        number.insert(0, 8)
        number.insert(1, 4)
        number.insert(2, 9)
        number.insert(3, 5)
        
    number = ''.join(map(str, number))
    return number;


num_new = input()
num1 = input()
num2 = input()
num3 = input()

num_new = number_conversion(num_new)
num1 = number_conversion(num1)
num2 = number_conversion(num2)
num3 = number_conversion(num3)


numbers = [num1, num2, num3]

for i in numbers:
    if num_new == i:
        print('YES')
    else:
        print('NO')
